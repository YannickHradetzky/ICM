{
 "cells": [
  {
   "cell_type": "code",
   "execution_count": 18,
   "id": "6d29d4e5-01b9-4e88-b749-d5365ad1eb17",
   "metadata": {},
   "outputs": [],
   "source": [
    "from gif_maker import create_gif_from_pngs\n",
    "import glob\n",
    "import numpy as np\n"
   ]
  },
  {
   "cell_type": "code",
   "execution_count": 19,
   "id": "f930fc4c-0037-4b1d-98ef-798b500dbf16",
   "metadata": {
    "scrolled": true
   },
   "outputs": [
    {
     "name": "stdout",
     "output_type": "stream",
     "text": [
      "['/home/yannickh00/ICM/Europe_Task/Images/1-1950.png', '/home/yannickh00/ICM/Europe_Task/Images/2-1950.png', '/home/yannickh00/ICM/Europe_Task/Images/3-1950.png', '/home/yannickh00/ICM/Europe_Task/Images/4-1950.png', '/home/yannickh00/ICM/Europe_Task/Images/5-1950.png', '/home/yannickh00/ICM/Europe_Task/Images/6-1950.png', '/home/yannickh00/ICM/Europe_Task/Images/7-1950.png', '/home/yannickh00/ICM/Europe_Task/Images/8-1950.png', '/home/yannickh00/ICM/Europe_Task/Images/9-1950.png', '/home/yannickh00/ICM/Europe_Task/Images/10-1950.png', '/home/yannickh00/ICM/Europe_Task/Images/11-1950.png', '/home/yannickh00/ICM/Europe_Task/Images/12-1950.png', '/home/yannickh00/ICM/Europe_Task/Images/1-1951.png', '/home/yannickh00/ICM/Europe_Task/Images/2-1951.png', '/home/yannickh00/ICM/Europe_Task/Images/3-1951.png', '/home/yannickh00/ICM/Europe_Task/Images/4-1951.png', '/home/yannickh00/ICM/Europe_Task/Images/5-1951.png', '/home/yannickh00/ICM/Europe_Task/Images/6-1951.png', '/home/yannickh00/ICM/Europe_Task/Images/7-1951.png', '/home/yannickh00/ICM/Europe_Task/Images/8-1951.png', '/home/yannickh00/ICM/Europe_Task/Images/9-1951.png', '/home/yannickh00/ICM/Europe_Task/Images/10-1951.png', '/home/yannickh00/ICM/Europe_Task/Images/11-1951.png', '/home/yannickh00/ICM/Europe_Task/Images/12-1951.png', '/home/yannickh00/ICM/Europe_Task/Images/1-1952.png', '/home/yannickh00/ICM/Europe_Task/Images/2-1952.png', '/home/yannickh00/ICM/Europe_Task/Images/3-1952.png', '/home/yannickh00/ICM/Europe_Task/Images/4-1952.png', '/home/yannickh00/ICM/Europe_Task/Images/5-1952.png', '/home/yannickh00/ICM/Europe_Task/Images/6-1952.png', '/home/yannickh00/ICM/Europe_Task/Images/7-1952.png', '/home/yannickh00/ICM/Europe_Task/Images/8-1952.png', '/home/yannickh00/ICM/Europe_Task/Images/9-1952.png', '/home/yannickh00/ICM/Europe_Task/Images/10-1952.png', '/home/yannickh00/ICM/Europe_Task/Images/11-1952.png', '/home/yannickh00/ICM/Europe_Task/Images/12-1952.png', '/home/yannickh00/ICM/Europe_Task/Images/1-1953.png', '/home/yannickh00/ICM/Europe_Task/Images/2-1953.png', '/home/yannickh00/ICM/Europe_Task/Images/3-1953.png', '/home/yannickh00/ICM/Europe_Task/Images/4-1953.png', '/home/yannickh00/ICM/Europe_Task/Images/5-1953.png', '/home/yannickh00/ICM/Europe_Task/Images/6-1953.png', '/home/yannickh00/ICM/Europe_Task/Images/7-1953.png', '/home/yannickh00/ICM/Europe_Task/Images/8-1953.png', '/home/yannickh00/ICM/Europe_Task/Images/9-1953.png', '/home/yannickh00/ICM/Europe_Task/Images/10-1953.png', '/home/yannickh00/ICM/Europe_Task/Images/11-1953.png', '/home/yannickh00/ICM/Europe_Task/Images/12-1953.png', '/home/yannickh00/ICM/Europe_Task/Images/1-1954.png', '/home/yannickh00/ICM/Europe_Task/Images/2-1954.png', '/home/yannickh00/ICM/Europe_Task/Images/3-1954.png', '/home/yannickh00/ICM/Europe_Task/Images/4-1954.png', '/home/yannickh00/ICM/Europe_Task/Images/5-1954.png', '/home/yannickh00/ICM/Europe_Task/Images/6-1954.png', '/home/yannickh00/ICM/Europe_Task/Images/7-1954.png', '/home/yannickh00/ICM/Europe_Task/Images/8-1954.png', '/home/yannickh00/ICM/Europe_Task/Images/9-1954.png', '/home/yannickh00/ICM/Europe_Task/Images/10-1954.png', '/home/yannickh00/ICM/Europe_Task/Images/11-1954.png', '/home/yannickh00/ICM/Europe_Task/Images/12-1954.png', '/home/yannickh00/ICM/Europe_Task/Images/1-1955.png', '/home/yannickh00/ICM/Europe_Task/Images/2-1955.png', '/home/yannickh00/ICM/Europe_Task/Images/3-1955.png', '/home/yannickh00/ICM/Europe_Task/Images/4-1955.png', '/home/yannickh00/ICM/Europe_Task/Images/5-1955.png', '/home/yannickh00/ICM/Europe_Task/Images/6-1955.png', '/home/yannickh00/ICM/Europe_Task/Images/7-1955.png', '/home/yannickh00/ICM/Europe_Task/Images/8-1955.png', '/home/yannickh00/ICM/Europe_Task/Images/9-1955.png', '/home/yannickh00/ICM/Europe_Task/Images/10-1955.png', '/home/yannickh00/ICM/Europe_Task/Images/11-1955.png', '/home/yannickh00/ICM/Europe_Task/Images/12-1955.png', '/home/yannickh00/ICM/Europe_Task/Images/1-1956.png', '/home/yannickh00/ICM/Europe_Task/Images/2-1956.png', '/home/yannickh00/ICM/Europe_Task/Images/3-1956.png', '/home/yannickh00/ICM/Europe_Task/Images/4-1956.png', '/home/yannickh00/ICM/Europe_Task/Images/5-1956.png', '/home/yannickh00/ICM/Europe_Task/Images/6-1956.png', '/home/yannickh00/ICM/Europe_Task/Images/7-1956.png', '/home/yannickh00/ICM/Europe_Task/Images/8-1956.png', '/home/yannickh00/ICM/Europe_Task/Images/9-1956.png', '/home/yannickh00/ICM/Europe_Task/Images/10-1956.png', '/home/yannickh00/ICM/Europe_Task/Images/11-1956.png', '/home/yannickh00/ICM/Europe_Task/Images/12-1956.png', '/home/yannickh00/ICM/Europe_Task/Images/1-1957.png', '/home/yannickh00/ICM/Europe_Task/Images/2-1957.png', '/home/yannickh00/ICM/Europe_Task/Images/3-1957.png', '/home/yannickh00/ICM/Europe_Task/Images/4-1957.png', '/home/yannickh00/ICM/Europe_Task/Images/5-1957.png', '/home/yannickh00/ICM/Europe_Task/Images/6-1957.png', '/home/yannickh00/ICM/Europe_Task/Images/7-1957.png', '/home/yannickh00/ICM/Europe_Task/Images/8-1957.png', '/home/yannickh00/ICM/Europe_Task/Images/9-1957.png', '/home/yannickh00/ICM/Europe_Task/Images/10-1957.png', '/home/yannickh00/ICM/Europe_Task/Images/11-1957.png', '/home/yannickh00/ICM/Europe_Task/Images/12-1957.png', '/home/yannickh00/ICM/Europe_Task/Images/1-1958.png', '/home/yannickh00/ICM/Europe_Task/Images/2-1958.png', '/home/yannickh00/ICM/Europe_Task/Images/3-1958.png', '/home/yannickh00/ICM/Europe_Task/Images/4-1958.png', '/home/yannickh00/ICM/Europe_Task/Images/5-1958.png', '/home/yannickh00/ICM/Europe_Task/Images/6-1958.png', '/home/yannickh00/ICM/Europe_Task/Images/7-1958.png', '/home/yannickh00/ICM/Europe_Task/Images/8-1958.png', '/home/yannickh00/ICM/Europe_Task/Images/9-1958.png', '/home/yannickh00/ICM/Europe_Task/Images/10-1958.png', '/home/yannickh00/ICM/Europe_Task/Images/11-1958.png', '/home/yannickh00/ICM/Europe_Task/Images/12-1958.png', '/home/yannickh00/ICM/Europe_Task/Images/1-1959.png', '/home/yannickh00/ICM/Europe_Task/Images/2-1959.png', '/home/yannickh00/ICM/Europe_Task/Images/3-1959.png', '/home/yannickh00/ICM/Europe_Task/Images/4-1959.png', '/home/yannickh00/ICM/Europe_Task/Images/5-1959.png', '/home/yannickh00/ICM/Europe_Task/Images/6-1959.png', '/home/yannickh00/ICM/Europe_Task/Images/7-1959.png', '/home/yannickh00/ICM/Europe_Task/Images/8-1959.png', '/home/yannickh00/ICM/Europe_Task/Images/9-1959.png', '/home/yannickh00/ICM/Europe_Task/Images/10-1959.png', '/home/yannickh00/ICM/Europe_Task/Images/11-1959.png', '/home/yannickh00/ICM/Europe_Task/Images/12-1959.png', '/home/yannickh00/ICM/Europe_Task/Images/1-1960.png', '/home/yannickh00/ICM/Europe_Task/Images/2-1960.png', '/home/yannickh00/ICM/Europe_Task/Images/3-1960.png', '/home/yannickh00/ICM/Europe_Task/Images/4-1960.png', '/home/yannickh00/ICM/Europe_Task/Images/5-1960.png', '/home/yannickh00/ICM/Europe_Task/Images/6-1960.png', '/home/yannickh00/ICM/Europe_Task/Images/7-1960.png', '/home/yannickh00/ICM/Europe_Task/Images/8-1960.png', '/home/yannickh00/ICM/Europe_Task/Images/9-1960.png', '/home/yannickh00/ICM/Europe_Task/Images/10-1960.png', '/home/yannickh00/ICM/Europe_Task/Images/11-1960.png', '/home/yannickh00/ICM/Europe_Task/Images/12-1960.png', '/home/yannickh00/ICM/Europe_Task/Images/1-2000.png', '/home/yannickh00/ICM/Europe_Task/Images/2-2000.png', '/home/yannickh00/ICM/Europe_Task/Images/3-2000.png', '/home/yannickh00/ICM/Europe_Task/Images/4-2000.png', '/home/yannickh00/ICM/Europe_Task/Images/5-2000.png', '/home/yannickh00/ICM/Europe_Task/Images/6-2000.png', '/home/yannickh00/ICM/Europe_Task/Images/7-2000.png', '/home/yannickh00/ICM/Europe_Task/Images/8-2000.png', '/home/yannickh00/ICM/Europe_Task/Images/9-2000.png', '/home/yannickh00/ICM/Europe_Task/Images/10-2000.png', '/home/yannickh00/ICM/Europe_Task/Images/11-2000.png', '/home/yannickh00/ICM/Europe_Task/Images/12-2000.png', '/home/yannickh00/ICM/Europe_Task/Images/1-2001.png', '/home/yannickh00/ICM/Europe_Task/Images/2-2001.png', '/home/yannickh00/ICM/Europe_Task/Images/3-2001.png', '/home/yannickh00/ICM/Europe_Task/Images/4-2001.png', '/home/yannickh00/ICM/Europe_Task/Images/5-2001.png', '/home/yannickh00/ICM/Europe_Task/Images/6-2001.png', '/home/yannickh00/ICM/Europe_Task/Images/7-2001.png', '/home/yannickh00/ICM/Europe_Task/Images/8-2001.png', '/home/yannickh00/ICM/Europe_Task/Images/9-2001.png', '/home/yannickh00/ICM/Europe_Task/Images/10-2001.png', '/home/yannickh00/ICM/Europe_Task/Images/11-2001.png', '/home/yannickh00/ICM/Europe_Task/Images/12-2001.png', '/home/yannickh00/ICM/Europe_Task/Images/1-2002.png', '/home/yannickh00/ICM/Europe_Task/Images/2-2002.png', '/home/yannickh00/ICM/Europe_Task/Images/3-2002.png', '/home/yannickh00/ICM/Europe_Task/Images/4-2002.png', '/home/yannickh00/ICM/Europe_Task/Images/5-2002.png', '/home/yannickh00/ICM/Europe_Task/Images/6-2002.png', '/home/yannickh00/ICM/Europe_Task/Images/7-2002.png', '/home/yannickh00/ICM/Europe_Task/Images/8-2002.png', '/home/yannickh00/ICM/Europe_Task/Images/9-2002.png', '/home/yannickh00/ICM/Europe_Task/Images/10-2002.png', '/home/yannickh00/ICM/Europe_Task/Images/11-2002.png', '/home/yannickh00/ICM/Europe_Task/Images/12-2002.png', '/home/yannickh00/ICM/Europe_Task/Images/1-2003.png', '/home/yannickh00/ICM/Europe_Task/Images/2-2003.png', '/home/yannickh00/ICM/Europe_Task/Images/3-2003.png', '/home/yannickh00/ICM/Europe_Task/Images/4-2003.png', '/home/yannickh00/ICM/Europe_Task/Images/5-2003.png', '/home/yannickh00/ICM/Europe_Task/Images/6-2003.png', '/home/yannickh00/ICM/Europe_Task/Images/7-2003.png', '/home/yannickh00/ICM/Europe_Task/Images/8-2003.png', '/home/yannickh00/ICM/Europe_Task/Images/9-2003.png', '/home/yannickh00/ICM/Europe_Task/Images/10-2003.png', '/home/yannickh00/ICM/Europe_Task/Images/11-2003.png', '/home/yannickh00/ICM/Europe_Task/Images/12-2003.png', '/home/yannickh00/ICM/Europe_Task/Images/1-2004.png', '/home/yannickh00/ICM/Europe_Task/Images/2-2004.png', '/home/yannickh00/ICM/Europe_Task/Images/3-2004.png', '/home/yannickh00/ICM/Europe_Task/Images/4-2004.png', '/home/yannickh00/ICM/Europe_Task/Images/5-2004.png', '/home/yannickh00/ICM/Europe_Task/Images/6-2004.png', '/home/yannickh00/ICM/Europe_Task/Images/7-2004.png', '/home/yannickh00/ICM/Europe_Task/Images/8-2004.png', '/home/yannickh00/ICM/Europe_Task/Images/9-2004.png', '/home/yannickh00/ICM/Europe_Task/Images/10-2004.png', '/home/yannickh00/ICM/Europe_Task/Images/11-2004.png', '/home/yannickh00/ICM/Europe_Task/Images/12-2004.png', '/home/yannickh00/ICM/Europe_Task/Images/1-2005.png', '/home/yannickh00/ICM/Europe_Task/Images/2-2005.png', '/home/yannickh00/ICM/Europe_Task/Images/3-2005.png', '/home/yannickh00/ICM/Europe_Task/Images/4-2005.png', '/home/yannickh00/ICM/Europe_Task/Images/5-2005.png', '/home/yannickh00/ICM/Europe_Task/Images/6-2005.png', '/home/yannickh00/ICM/Europe_Task/Images/7-2005.png', '/home/yannickh00/ICM/Europe_Task/Images/8-2005.png', '/home/yannickh00/ICM/Europe_Task/Images/9-2005.png', '/home/yannickh00/ICM/Europe_Task/Images/10-2005.png', '/home/yannickh00/ICM/Europe_Task/Images/11-2005.png', '/home/yannickh00/ICM/Europe_Task/Images/12-2005.png', '/home/yannickh00/ICM/Europe_Task/Images/1-2006.png', '/home/yannickh00/ICM/Europe_Task/Images/2-2006.png', '/home/yannickh00/ICM/Europe_Task/Images/3-2006.png', '/home/yannickh00/ICM/Europe_Task/Images/4-2006.png', '/home/yannickh00/ICM/Europe_Task/Images/5-2006.png', '/home/yannickh00/ICM/Europe_Task/Images/6-2006.png', '/home/yannickh00/ICM/Europe_Task/Images/7-2006.png', '/home/yannickh00/ICM/Europe_Task/Images/8-2006.png', '/home/yannickh00/ICM/Europe_Task/Images/9-2006.png', '/home/yannickh00/ICM/Europe_Task/Images/10-2006.png', '/home/yannickh00/ICM/Europe_Task/Images/11-2006.png', '/home/yannickh00/ICM/Europe_Task/Images/12-2006.png', '/home/yannickh00/ICM/Europe_Task/Images/1-2008.png', '/home/yannickh00/ICM/Europe_Task/Images/2-2008.png', '/home/yannickh00/ICM/Europe_Task/Images/3-2008.png', '/home/yannickh00/ICM/Europe_Task/Images/4-2008.png', '/home/yannickh00/ICM/Europe_Task/Images/5-2008.png', '/home/yannickh00/ICM/Europe_Task/Images/6-2008.png', '/home/yannickh00/ICM/Europe_Task/Images/7-2008.png', '/home/yannickh00/ICM/Europe_Task/Images/8-2008.png', '/home/yannickh00/ICM/Europe_Task/Images/9-2008.png', '/home/yannickh00/ICM/Europe_Task/Images/10-2008.png', '/home/yannickh00/ICM/Europe_Task/Images/11-2008.png', '/home/yannickh00/ICM/Europe_Task/Images/12-2008.png', '/home/yannickh00/ICM/Europe_Task/Images/1-2009.png', '/home/yannickh00/ICM/Europe_Task/Images/2-2009.png', '/home/yannickh00/ICM/Europe_Task/Images/3-2009.png', '/home/yannickh00/ICM/Europe_Task/Images/4-2009.png', '/home/yannickh00/ICM/Europe_Task/Images/5-2009.png', '/home/yannickh00/ICM/Europe_Task/Images/6-2009.png', '/home/yannickh00/ICM/Europe_Task/Images/7-2009.png', '/home/yannickh00/ICM/Europe_Task/Images/8-2009.png', '/home/yannickh00/ICM/Europe_Task/Images/9-2009.png', '/home/yannickh00/ICM/Europe_Task/Images/10-2009.png', '/home/yannickh00/ICM/Europe_Task/Images/11-2009.png', '/home/yannickh00/ICM/Europe_Task/Images/12-2009.png', '/home/yannickh00/ICM/Europe_Task/Images/1-2010.png', '/home/yannickh00/ICM/Europe_Task/Images/2-2010.png', '/home/yannickh00/ICM/Europe_Task/Images/3-2010.png', '/home/yannickh00/ICM/Europe_Task/Images/4-2010.png', '/home/yannickh00/ICM/Europe_Task/Images/5-2010.png', '/home/yannickh00/ICM/Europe_Task/Images/6-2010.png', '/home/yannickh00/ICM/Europe_Task/Images/7-2010.png', '/home/yannickh00/ICM/Europe_Task/Images/8-2010.png', '/home/yannickh00/ICM/Europe_Task/Images/9-2010.png', '/home/yannickh00/ICM/Europe_Task/Images/10-2010.png', '/home/yannickh00/ICM/Europe_Task/Images/11-2010.png', '/home/yannickh00/ICM/Europe_Task/Images/12-2010.png', '/home/yannickh00/ICM/Europe_Task/Images/1-2007.png', '/home/yannickh00/ICM/Europe_Task/Images/2-2007.png', '/home/yannickh00/ICM/Europe_Task/Images/3-2007.png', '/home/yannickh00/ICM/Europe_Task/Images/4-2007.png', '/home/yannickh00/ICM/Europe_Task/Images/5-2007.png', '/home/yannickh00/ICM/Europe_Task/Images/6-2007.png', '/home/yannickh00/ICM/Europe_Task/Images/7-2007.png', '/home/yannickh00/ICM/Europe_Task/Images/8-2007.png', '/home/yannickh00/ICM/Europe_Task/Images/9-2007.png', '/home/yannickh00/ICM/Europe_Task/Images/10-2007.png', '/home/yannickh00/ICM/Europe_Task/Images/11-2007.png', '/home/yannickh00/ICM/Europe_Task/Images/12-2007.png']\n"
     ]
    }
   ],
   "source": [
    "all_files = glob.glob(\"/home/yannickh00/ICM/Europe_Task/Images/*\")\n",
    "all_files = [f for f in all_files if \".png\" in f]\n",
    "gif_path = \"/home/yannickh00/ICM/Europe_Task/Results/gifs/\"\n",
    "print(all_files)"
   ]
  },
  {
   "cell_type": "code",
   "execution_count": 28,
   "id": "d629b8fd-a69a-46e3-b4e8-d205f27ec4fe",
   "metadata": {},
   "outputs": [
    {
     "name": "stdout",
     "output_type": "stream",
     "text": [
      "['/home/yannickh00/ICM/Europe_Task/Images/1-1950.png', '/home/yannickh00/ICM/Europe_Task/Images/2-1950.png', '/home/yannickh00/ICM/Europe_Task/Images/3-1950.png', '/home/yannickh00/ICM/Europe_Task/Images/4-1950.png', '/home/yannickh00/ICM/Europe_Task/Images/5-1950.png', '/home/yannickh00/ICM/Europe_Task/Images/6-1950.png', '/home/yannickh00/ICM/Europe_Task/Images/7-1950.png', '/home/yannickh00/ICM/Europe_Task/Images/8-1950.png', '/home/yannickh00/ICM/Europe_Task/Images/9-1950.png', '/home/yannickh00/ICM/Europe_Task/Images/10-1950.png', '/home/yannickh00/ICM/Europe_Task/Images/11-1950.png', '/home/yannickh00/ICM/Europe_Task/Images/12-1950.png', '/home/yannickh00/ICM/Europe_Task/Images/1-1951.png', '/home/yannickh00/ICM/Europe_Task/Images/2-1951.png', '/home/yannickh00/ICM/Europe_Task/Images/3-1951.png', '/home/yannickh00/ICM/Europe_Task/Images/4-1951.png', '/home/yannickh00/ICM/Europe_Task/Images/5-1951.png', '/home/yannickh00/ICM/Europe_Task/Images/6-1951.png', '/home/yannickh00/ICM/Europe_Task/Images/7-1951.png', '/home/yannickh00/ICM/Europe_Task/Images/8-1951.png', '/home/yannickh00/ICM/Europe_Task/Images/9-1951.png', '/home/yannickh00/ICM/Europe_Task/Images/10-1951.png', '/home/yannickh00/ICM/Europe_Task/Images/11-1951.png', '/home/yannickh00/ICM/Europe_Task/Images/12-1951.png', '/home/yannickh00/ICM/Europe_Task/Images/1-1952.png', '/home/yannickh00/ICM/Europe_Task/Images/2-1952.png', '/home/yannickh00/ICM/Europe_Task/Images/3-1952.png', '/home/yannickh00/ICM/Europe_Task/Images/4-1952.png', '/home/yannickh00/ICM/Europe_Task/Images/5-1952.png', '/home/yannickh00/ICM/Europe_Task/Images/6-1952.png', '/home/yannickh00/ICM/Europe_Task/Images/7-1952.png', '/home/yannickh00/ICM/Europe_Task/Images/8-1952.png', '/home/yannickh00/ICM/Europe_Task/Images/9-1952.png', '/home/yannickh00/ICM/Europe_Task/Images/10-1952.png', '/home/yannickh00/ICM/Europe_Task/Images/11-1952.png', '/home/yannickh00/ICM/Europe_Task/Images/12-1952.png', '/home/yannickh00/ICM/Europe_Task/Images/1-1953.png', '/home/yannickh00/ICM/Europe_Task/Images/2-1953.png', '/home/yannickh00/ICM/Europe_Task/Images/3-1953.png', '/home/yannickh00/ICM/Europe_Task/Images/4-1953.png', '/home/yannickh00/ICM/Europe_Task/Images/5-1953.png', '/home/yannickh00/ICM/Europe_Task/Images/6-1953.png', '/home/yannickh00/ICM/Europe_Task/Images/7-1953.png', '/home/yannickh00/ICM/Europe_Task/Images/8-1953.png', '/home/yannickh00/ICM/Europe_Task/Images/9-1953.png', '/home/yannickh00/ICM/Europe_Task/Images/10-1953.png', '/home/yannickh00/ICM/Europe_Task/Images/11-1953.png', '/home/yannickh00/ICM/Europe_Task/Images/12-1953.png', '/home/yannickh00/ICM/Europe_Task/Images/1-1954.png', '/home/yannickh00/ICM/Europe_Task/Images/2-1954.png', '/home/yannickh00/ICM/Europe_Task/Images/3-1954.png', '/home/yannickh00/ICM/Europe_Task/Images/4-1954.png', '/home/yannickh00/ICM/Europe_Task/Images/5-1954.png', '/home/yannickh00/ICM/Europe_Task/Images/6-1954.png', '/home/yannickh00/ICM/Europe_Task/Images/7-1954.png', '/home/yannickh00/ICM/Europe_Task/Images/8-1954.png', '/home/yannickh00/ICM/Europe_Task/Images/9-1954.png', '/home/yannickh00/ICM/Europe_Task/Images/10-1954.png', '/home/yannickh00/ICM/Europe_Task/Images/11-1954.png', '/home/yannickh00/ICM/Europe_Task/Images/12-1954.png', '/home/yannickh00/ICM/Europe_Task/Images/1-1955.png', '/home/yannickh00/ICM/Europe_Task/Images/2-1955.png', '/home/yannickh00/ICM/Europe_Task/Images/3-1955.png', '/home/yannickh00/ICM/Europe_Task/Images/4-1955.png', '/home/yannickh00/ICM/Europe_Task/Images/5-1955.png', '/home/yannickh00/ICM/Europe_Task/Images/6-1955.png', '/home/yannickh00/ICM/Europe_Task/Images/7-1955.png', '/home/yannickh00/ICM/Europe_Task/Images/8-1955.png', '/home/yannickh00/ICM/Europe_Task/Images/9-1955.png', '/home/yannickh00/ICM/Europe_Task/Images/10-1955.png', '/home/yannickh00/ICM/Europe_Task/Images/11-1955.png', '/home/yannickh00/ICM/Europe_Task/Images/12-1955.png', '/home/yannickh00/ICM/Europe_Task/Images/1-1956.png', '/home/yannickh00/ICM/Europe_Task/Images/2-1956.png', '/home/yannickh00/ICM/Europe_Task/Images/3-1956.png', '/home/yannickh00/ICM/Europe_Task/Images/4-1956.png', '/home/yannickh00/ICM/Europe_Task/Images/5-1956.png', '/home/yannickh00/ICM/Europe_Task/Images/6-1956.png', '/home/yannickh00/ICM/Europe_Task/Images/7-1956.png', '/home/yannickh00/ICM/Europe_Task/Images/8-1956.png', '/home/yannickh00/ICM/Europe_Task/Images/9-1956.png', '/home/yannickh00/ICM/Europe_Task/Images/10-1956.png', '/home/yannickh00/ICM/Europe_Task/Images/11-1956.png', '/home/yannickh00/ICM/Europe_Task/Images/12-1956.png', '/home/yannickh00/ICM/Europe_Task/Images/1-1957.png', '/home/yannickh00/ICM/Europe_Task/Images/2-1957.png', '/home/yannickh00/ICM/Europe_Task/Images/3-1957.png', '/home/yannickh00/ICM/Europe_Task/Images/4-1957.png', '/home/yannickh00/ICM/Europe_Task/Images/5-1957.png', '/home/yannickh00/ICM/Europe_Task/Images/6-1957.png', '/home/yannickh00/ICM/Europe_Task/Images/7-1957.png', '/home/yannickh00/ICM/Europe_Task/Images/8-1957.png', '/home/yannickh00/ICM/Europe_Task/Images/9-1957.png', '/home/yannickh00/ICM/Europe_Task/Images/10-1957.png', '/home/yannickh00/ICM/Europe_Task/Images/11-1957.png', '/home/yannickh00/ICM/Europe_Task/Images/12-1957.png', '/home/yannickh00/ICM/Europe_Task/Images/1-1958.png', '/home/yannickh00/ICM/Europe_Task/Images/2-1958.png', '/home/yannickh00/ICM/Europe_Task/Images/3-1958.png', '/home/yannickh00/ICM/Europe_Task/Images/4-1958.png', '/home/yannickh00/ICM/Europe_Task/Images/5-1958.png', '/home/yannickh00/ICM/Europe_Task/Images/6-1958.png', '/home/yannickh00/ICM/Europe_Task/Images/7-1958.png', '/home/yannickh00/ICM/Europe_Task/Images/8-1958.png', '/home/yannickh00/ICM/Europe_Task/Images/9-1958.png', '/home/yannickh00/ICM/Europe_Task/Images/10-1958.png', '/home/yannickh00/ICM/Europe_Task/Images/11-1958.png', '/home/yannickh00/ICM/Europe_Task/Images/12-1958.png', '/home/yannickh00/ICM/Europe_Task/Images/1-1959.png', '/home/yannickh00/ICM/Europe_Task/Images/2-1959.png', '/home/yannickh00/ICM/Europe_Task/Images/3-1959.png', '/home/yannickh00/ICM/Europe_Task/Images/4-1959.png', '/home/yannickh00/ICM/Europe_Task/Images/5-1959.png', '/home/yannickh00/ICM/Europe_Task/Images/6-1959.png', '/home/yannickh00/ICM/Europe_Task/Images/7-1959.png', '/home/yannickh00/ICM/Europe_Task/Images/8-1959.png', '/home/yannickh00/ICM/Europe_Task/Images/9-1959.png', '/home/yannickh00/ICM/Europe_Task/Images/10-1959.png', '/home/yannickh00/ICM/Europe_Task/Images/11-1959.png', '/home/yannickh00/ICM/Europe_Task/Images/12-1959.png', '/home/yannickh00/ICM/Europe_Task/Images/1-1960.png', '/home/yannickh00/ICM/Europe_Task/Images/2-1960.png', '/home/yannickh00/ICM/Europe_Task/Images/3-1960.png', '/home/yannickh00/ICM/Europe_Task/Images/4-1960.png', '/home/yannickh00/ICM/Europe_Task/Images/5-1960.png', '/home/yannickh00/ICM/Europe_Task/Images/6-1960.png', '/home/yannickh00/ICM/Europe_Task/Images/7-1960.png', '/home/yannickh00/ICM/Europe_Task/Images/8-1960.png', '/home/yannickh00/ICM/Europe_Task/Images/9-1960.png', '/home/yannickh00/ICM/Europe_Task/Images/10-1960.png', '/home/yannickh00/ICM/Europe_Task/Images/11-1960.png', '/home/yannickh00/ICM/Europe_Task/Images/12-1960.png']\n"
     ]
    }
   ],
   "source": [
    "import re\n",
    "\n",
    "# Function to extract year and month for sorting\n",
    "def extract_date(filepath):\n",
    "    match = re.search(r'(\\d+)-(\\d+)\\.png', filepath)\n",
    "    if match:\n",
    "        month, year = int(match.group(1)), int(match.group(2))\n",
    "        return (year, month)\n",
    "\n",
    "# Sort the list based on the extracted year and month\n",
    "all_files_sorted = sorted(all_files, key=extract_date)\n",
    "year_list = [2000 + i for i in range(0,10)]\n",
    "relevant = []\n",
    "for f in all_files:\n",
    "    year = extract_date(f)[0]\n",
    "    if year in year_list:\n",
    "        relevant.append(f)\n",
    "# relevant = np.array(relevant).unique()\n",
    "print(relevant)"
   ]
  },
  {
   "cell_type": "code",
   "execution_count": 29,
   "id": "ccea95e6-30fd-418d-b608-52880c7bcfec",
   "metadata": {},
   "outputs": [
    {
     "name": "stdout",
     "output_type": "stream",
     "text": [
      "Successfully created /home/yannickh00/ICM/Europe_Task/Results/gifs/1950-1960_monthly.gif\n"
     ]
    },
    {
     "data": {
      "text/plain": [
       "True"
      ]
     },
     "execution_count": 29,
     "metadata": {},
     "output_type": "execute_result"
    }
   ],
   "source": [
    "create_gif_from_pngs(relevant,\n",
    "                     gif_path + \"1950-1960_monthly.gif\",\n",
    "                     duration=400)"
   ]
  },
  {
   "cell_type": "code",
   "execution_count": 31,
   "id": "f7bb7d09-d2c7-4b18-b0c5-8be317cab78c",
   "metadata": {},
   "outputs": [
    {
     "name": "stdout",
     "output_type": "stream",
     "text": [
      "Successfully created /home/yannickh00/ICM/Europe_Task/Results/gifs/1_1950-1960.gif\n",
      "Successfully created /home/yannickh00/ICM/Europe_Task/Results/gifs/2_1950-1960.gif\n",
      "Successfully created /home/yannickh00/ICM/Europe_Task/Results/gifs/3_1950-1960.gif\n",
      "Successfully created /home/yannickh00/ICM/Europe_Task/Results/gifs/4_1950-1960.gif\n",
      "Successfully created /home/yannickh00/ICM/Europe_Task/Results/gifs/5_1950-1960.gif\n",
      "Successfully created /home/yannickh00/ICM/Europe_Task/Results/gifs/6_1950-1960.gif\n",
      "Successfully created /home/yannickh00/ICM/Europe_Task/Results/gifs/7_1950-1960.gif\n",
      "Successfully created /home/yannickh00/ICM/Europe_Task/Results/gifs/8_1950-1960.gif\n",
      "Successfully created /home/yannickh00/ICM/Europe_Task/Results/gifs/9_1950-1960.gif\n",
      "Successfully created /home/yannickh00/ICM/Europe_Task/Results/gifs/10_1950-1960.gif\n",
      "Successfully created /home/yannickh00/ICM/Europe_Task/Results/gifs/11_1950-1960.gif\n",
      "Successfully created /home/yannickh00/ICM/Europe_Task/Results/gifs/12_1950-1960.gif\n"
     ]
    }
   ],
   "source": [
    "for i in range(1,13):\n",
    "    files_specific_month = [f for f in relevant if f\"/{i}-\" in f or f\"\\\\{i}-\" in f]\n",
    "    files_specific_month_sorted = sorted(files_specific_month, key=extract_date)\n",
    "    files_specific_month_sorted\n",
    "    \n",
    "    create_gif_from_pngs(files_specific_month_sorted,\n",
    "                         gif_path + f\"{i}_1950-1960.gif\",\n",
    "                         duration=400)"
   ]
  },
  {
   "cell_type": "code",
   "execution_count": null,
   "id": "e2a8469f-5ef8-4b34-8b7e-2ecedc6655fb",
   "metadata": {},
   "outputs": [],
   "source": []
  }
 ],
 "metadata": {
  "kernelspec": {
   "display_name": "Python 3 (ipykernel)",
   "language": "python",
   "name": "python3"
  },
  "language_info": {
   "codemirror_mode": {
    "name": "ipython",
    "version": 3
   },
   "file_extension": ".py",
   "mimetype": "text/x-python",
   "name": "python",
   "nbconvert_exporter": "python",
   "pygments_lexer": "ipython3",
   "version": "3.12.8"
  }
 },
 "nbformat": 4,
 "nbformat_minor": 5
}

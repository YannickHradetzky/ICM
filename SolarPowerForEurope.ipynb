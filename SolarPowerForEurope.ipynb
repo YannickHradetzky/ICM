{
 "cells": [
  {
   "cell_type": "code",
   "execution_count": 1,
   "id": "ab6ae44a-9c28-47bb-ab7b-f3d666d228d1",
   "metadata": {},
   "outputs": [],
   "source": [
    "import matplotlib.pyplot as plt\n",
    "import numpy as np\n",
    "import xarray as xr"
   ]
  },
  {
   "cell_type": "markdown",
   "id": "2519d5bd-5f19-4581-b9a2-5bb7abceed8b",
   "metadata": {},
   "source": [
    "Function that computes how many km^2 of Europe have to be covered for EU's electricity consumption to be covered.\n",
    "pvpot is an xarray containing the pvpot values of Europe\n",
    "time is the time coordinate of pvpot\n",
    "size gives us te resolution of pvpot \n",
    "pvpeak is the peak power of the solar modues that we use (in TW/km^2)\n",
    "energyconsumption is the electricity consumption of the EU in a given year"
   ]
  },
  {
   "cell_type": "code",
   "execution_count": 253,
   "id": "99166824-9996-4e36-9b40-df35072ad7d3",
   "metadata": {},
   "outputs": [],
   "source": [
    "def powercoverage(pvpot,dum,size,pvpeak,energyconsumption):\n",
    "    dsum=pvpot.sum(dim=dum)\n",
    "    dsum=dsum/dsum.max()\n",
    "    pvtotal=0\n",
    "    size=size\n",
    "    pvpeak=pvpeak\n",
    "    energyconsumption=energyconsumption/size/pvpeak\n",
    "    latcoord=np.array([])\n",
    "    loncoord=latcoord\n",
    "\n",
    "    while pvtotal<energyconsumption:\n",
    "        lat1=dsum.where(dsum==dsum.max(), drop=True).squeeze().coords[\"lat\"].values\n",
    "        lon1=dsum.where(dsum==dsum.max(), drop=True).squeeze().coords[\"lon\"].values\n",
    "        latcoord=np.append(latcoord,lat1)\n",
    "        loncoord=np.append(loncoord,lon1)\n",
    "        pvtotal=pvtotal+dsum.loc[dict(lat=lat1,lon=lon1)].values\n",
    "        dsum.loc[dict(lat=lat1,lon=lon1)]=0\n",
    "\n",
    "    print(\"For the coverage of the EU electricity consumption of \" +str(energyconsumption)+ \" TWh there would need to be \"+ str(len(latcoord)*size)+\" km^2 of solar power plants in Europe\")"
   ]
  },
  {
   "cell_type": "markdown",
   "id": "043674c7-5397-4436-87cd-bff63f5cc7d9",
   "metadata": {},
   "source": [
    "time is likely to be measured in months, resolution of era5 is 31km*31km, pvpeak is assumed to be 240W/m^2=240/(10^6)TW/km^2, and the electricity consumption of the EU was 2888 TWh in 2023. pvpot has to be set properly."
   ]
  },
  {
   "cell_type": "code",
   "execution_count": 255,
   "id": "cc8528d4-4e6d-4562-a779-062069729258",
   "metadata": {},
   "outputs": [
    {
     "name": "stdout",
     "output_type": "stream",
     "text": [
      "For the coverage of the EU electricity consumption of 13.007284079084288 TWh there would need to be 13454 km^2 of solar power plants in Europe\n"
     ]
    }
   ],
   "source": [
    "powercoverage(,\"time\",31*31,240*10**-6,2888)"
   ]
  },
  {
   "cell_type": "code",
   "execution_count": null,
   "id": "5e99570b-6555-4227-b8d6-59e47098813e",
   "metadata": {},
   "outputs": [],
   "source": []
  }
 ],
 "metadata": {
  "kernelspec": {
   "display_name": "Python 3 (ipykernel)",
   "language": "python",
   "name": "python3"
  },
  "language_info": {
   "codemirror_mode": {
    "name": "ipython",
    "version": 3
   },
   "file_extension": ".py",
   "mimetype": "text/x-python",
   "name": "python",
   "nbconvert_exporter": "python",
   "pygments_lexer": "ipython3",
   "version": "3.12.7"
  }
 },
 "nbformat": 4,
 "nbformat_minor": 5
}
